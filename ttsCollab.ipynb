{
 "cells": [
  {
   "cell_type": "code",
   "execution_count": 1,
   "id": "e059e52e",
   "metadata": {
    "execution": {
     "iopub.execute_input": "2025-07-17T13:37:29.733486Z",
     "iopub.status.busy": "2025-07-17T13:37:29.732487Z",
     "iopub.status.idle": "2025-07-17T13:37:39.734519Z",
     "shell.execute_reply": "2025-07-17T13:37:39.734519Z"
    }
   },
   "outputs": [
    {
     "name": "stderr",
     "output_type": "stream",
     "text": [
      "El sistema no puede encontrar la ruta especificada.\n"
     ]
    },
    {
     "name": "stderr",
     "output_type": "stream",
     "text": [
      "C:\\Users\\kage-\\Downloads\\Trabajo - clase\\KC - IA estudios\\KC_TFG_AudioBook\\env\\Lib\\site-packages\\pygame\\pkgdata.py:25: UserWarning: pkg_resources is deprecated as an API. See https://setuptools.pypa.io/en/latest/pkg_resources.html. The pkg_resources package is slated for removal as early as 2025-11-30. Refrain from using this package or pin to Setuptools<81.\n",
      "  from pkg_resources import resource_stream, resource_exists\n"
     ]
    },
    {
     "name": "stdout",
     "output_type": "stream",
     "text": [
      "pygame 2.6.1 (SDL 2.28.4, Python 3.12.7)\n",
      "Hello from the pygame community. https://www.pygame.org/contribute.html\n"
     ]
    }
   ],
   "source": [
    "# Celda 1: Importaciones\n",
    "!pip install -q kokoro>=0.9.2 soundfile\n",
    "!apt-get -qq -y install espeak-ng > /dev/null 2>&1\n",
    "import shared_variable\n",
    "import time\n",
    "from kokoro import KPipeline\n",
    "from IPython.display import display, Audio, HTML\n",
    "import soundfile as sf\n",
    "import pygame\n",
    "import threading\n",
    "import sounddevice as sd"
   ]
  },
  {
   "cell_type": "code",
   "execution_count": null,
   "id": "2041901d",
   "metadata": {
    "execution": {
     "iopub.execute_input": "2025-07-17T13:37:39.739535Z",
     "iopub.status.busy": "2025-07-17T13:37:39.738534Z",
     "iopub.status.idle": "2025-07-17T13:38:17.820532Z",
     "shell.execute_reply": "2025-07-17T13:38:17.819517Z"
    }
   },
   "outputs": [
    {
     "name": "stdout",
     "output_type": "stream",
     "text": [
      "==================================================\n",
      "🐍 EJECUTANDO SCRIPT DEL NOTEBOOK\n",
      "==================================================\n",
      "🔗 Inicializando sistema...\n",
      "pygame_disponible\n",
      "📊 Variable inicializada con: '{'prompt': '.\\nHoy es lunes.\\n¿Y qué día es mañana?\\nMañana es martes.\\n¿Y qué día es después de mañana?\\nDespués de mañana es miércoles.\\n¿Y qué día es después de después de mañana?\\nDespués de después de mañana es jueves.\\n¿Y qué día es después de después de después de mañana?\\nDespués de después de después de mañana es viernes.\\n¿Y qué día es después de después de después de después de mañana?', 'language': 'e'}'\n",
      "📊 Valor actual de la variable: '{'prompt': '.\\nHoy es lunes.\\n¿Y qué día es mañana?\\nMañana es martes.\\n¿Y qué día es después de mañana?\\nDespués de mañana es miércoles.\\n¿Y qué día es después de después de mañana?\\nDespués de después de mañana es jueves.\\n¿Y qué día es después de después de después de mañana?\\nDespués de después de después de mañana es viernes.\\n¿Y qué día es después de después de después de después de mañana?', 'language': 'e'}'\n",
      "🚀 Ejecutando lógica personalizada...\n",
      "WARNING: Defaulting repo_id to hexgrad/Kokoro-82M. Pass repo_id='hexgrad/Kokoro-82M' to suppress this warning.\n"
     ]
    },
    {
     "name": "stderr",
     "output_type": "stream",
     "text": [
      "C:\\Users\\kage-\\Downloads\\Trabajo - clase\\KC - IA estudios\\KC_TFG_AudioBook\\env\\Lib\\site-packages\\torch\\nn\\modules\\rnn.py:123: UserWarning: dropout option adds dropout after all but last recurrent layer, so non-zero dropout expects num_layers greater than 1, but got dropout=0.2 and num_layers=1\n",
      "  warnings.warn(\n",
      "C:\\Users\\kage-\\Downloads\\Trabajo - clase\\KC - IA estudios\\KC_TFG_AudioBook\\env\\Lib\\site-packages\\torch\\nn\\utils\\weight_norm.py:143: FutureWarning: `torch.nn.utils.weight_norm` is deprecated in favor of `torch.nn.utils.parametrizations.weight_norm`.\n",
      "  WeightNorm.apply(module, name, dim)\n"
     ]
    },
    {
     "name": "stdout",
     "output_type": "stream",
     "text": [
      "0 . .\n"
     ]
    },
    {
     "name": "stdout",
     "output_type": "stream",
     "text": [
      "✅ Audio finalizado\n"
     ]
    },
    {
     "name": "stdout",
     "output_type": "stream",
     "text": [
      "1 Hoy es lunes. ˈoɪ ˈes lˈunes.\n"
     ]
    },
    {
     "name": "stdout",
     "output_type": "stream",
     "text": [
      "✅ Audio finalizado\n"
     ]
    },
    {
     "name": "stdout",
     "output_type": "stream",
     "text": [
      "2 ¿Y qué día es mañana? ¿i kˈe ðˈia ˈes maɲˈana?\n"
     ]
    },
    {
     "name": "stdout",
     "output_type": "stream",
     "text": [
      "✅ Audio finalizado\n"
     ]
    },
    {
     "name": "stdout",
     "output_type": "stream",
     "text": [
      "3 Mañana es martes. maɲˈana ˈes mˈaɾtes.\n"
     ]
    },
    {
     "name": "stdout",
     "output_type": "stream",
     "text": [
      "✅ Audio finalizado\n"
     ]
    },
    {
     "name": "stdout",
     "output_type": "stream",
     "text": [
      "4 ¿Y qué día es después de mañana? ¿i kˈe ðˈia ˈes ðespwˈes ðe maɲˈana?\n"
     ]
    },
    {
     "name": "stdout",
     "output_type": "stream",
     "text": [
      "✅ Audio finalizado\n"
     ]
    },
    {
     "name": "stdout",
     "output_type": "stream",
     "text": [
      "5 Después de mañana es miércoles. despwˈes ðe maɲˈana ˈes mjˈeɾkoles.\n"
     ]
    },
    {
     "name": "stdout",
     "output_type": "stream",
     "text": [
      "✅ Audio finalizado\n"
     ]
    },
    {
     "name": "stdout",
     "output_type": "stream",
     "text": [
      "6 ¿Y qué día es después de después de mañana? ¿i kˈe ðˈia ˈes ðespwˈes ðe ðespwˈes ðe maɲˈana?\n"
     ]
    },
    {
     "name": "stdout",
     "output_type": "stream",
     "text": [
      "✅ Audio finalizado\n"
     ]
    },
    {
     "name": "stdout",
     "output_type": "stream",
     "text": [
      "7 Después de después de mañana es jueves. despwˈes ðe ðespwˈes ðe maɲˈana ˈes xwˈeβes.\n"
     ]
    },
    {
     "name": "stdout",
     "output_type": "stream",
     "text": [
      "✅ Audio finalizado\n"
     ]
    },
    {
     "name": "stdout",
     "output_type": "stream",
     "text": [
      "8 ¿Y qué día es después de después de después de mañana? ¿i kˈe ðˈia ˈes ðespwˈes ðe ðespwˈes ðe ðespwˈes ðe maɲˈana?\n"
     ]
    },
    {
     "name": "stdout",
     "output_type": "stream",
     "text": [
      "✅ Audio finalizado\n"
     ]
    },
    {
     "name": "stdout",
     "output_type": "stream",
     "text": [
      "9 Después de después de después de mañana es viernes. despwˈes ðe ðespwˈes ðe ðespwˈes ðe maɲˈana ˈes βjˈeɾnes.\n"
     ]
    },
    {
     "name": "stdout",
     "output_type": "stream",
     "text": [
      "✅ Audio finalizado\n"
     ]
    },
    {
     "name": "stdout",
     "output_type": "stream",
     "text": [
      "10 ¿Y qué día es después de después de después de después de mañana? ¿i kˈe ðˈia ˈes ðespwˈes ðe ðespwˈes ðe ðespwˈes ðe ðespwˈes ðe maɲˈana?\n"
     ]
    },
    {
     "name": "stdout",
     "output_type": "stream",
     "text": [
      "✅ Audio finalizado\n",
      "✅ Lógica personalizada completada\n",
      "\n",
      "📈 Estado final:\n",
      "📊 Valor actual de la variable: '{'prompt': '.\\nHoy es lunes.\\n¿Y qué día es mañana?\\nMañana es martes.\\n¿Y qué día es después de mañana?\\nDespués de mañana es miércoles.\\n¿Y qué día es después de después de mañana?\\nDespués de después de mañana es jueves.\\n¿Y qué día es después de después de después de mañana?\\nDespués de después de después de mañana es viernes.\\n¿Y qué día es después de después de después de después de mañana?', 'language': 'e'}'\n",
      "\n",
      "✅ Script completado exitosamente!\n",
      "==================================================\n",
      "⚠️ ipywidgets no disponible. Instala con: pip install ipywidgets\n"
     ]
    }
   ],
   "source": [
    "def inicializar_sistema():\n",
    "    \"\"\"Inicializa el sistema como lo haría el notebook\"\"\"\n",
    "    print(\"🔗 Inicializando sistema...\")\n",
    "\n",
    "    try:\n",
    "        pygame.mixer.init()\n",
    "        print(\"pygame_disponible\")\n",
    "    except:\n",
    "        print(\"pygame_disponible = False\")\n",
    "\n",
    "    # Inicializar la variable\n",
    "    valor_inicial = shared_variable.initialize_variable('Valor Inicial desde Script')\n",
    "    print(f\"📊 Variable inicializada con: '{valor_inicial}'\")\n",
    "    \n",
    "    return valor_inicial\n",
    "\n",
    "def mostrar_variable():\n",
    "    \"\"\"Muestra el valor actual de la variable\"\"\"\n",
    "    valor = shared_variable.get_variable()\n",
    "    print(f\"📊 Valor actual de la variable: '{valor}'\")\n",
    "    return valor\n",
    "\n",
    "def cambiar_variable(nuevo_valor):\n",
    "    \"\"\"Cambia la variable\"\"\"\n",
    "    resultado = shared_variable.set_variable(nuevo_valor)\n",
    "    print(f\"✅ Variable cambiada a: '{resultado}'\")\n",
    "    return resultado\n",
    "\n",
    "def ejecutar_logica_personalizada():\n",
    "    \"\"\"Aquí puedes poner la lógica específica de tu notebook\"\"\"\n",
    "    print(\"🚀 Ejecutando lógica personalizada...\")\n",
    "    \n",
    "    valor_actual = shared_variable.get_variable()\n",
    "    \n",
    "    # Procesar el valor (ejemplo)\n",
    "    if isinstance(valor_actual[\"prompt\"], str):\n",
    "        pipeline = KPipeline(lang_code=valor_actual[\"language\"],device='cpu')\n",
    "        text = valor_actual[\"prompt\"]\n",
    "        generator = pipeline(text, voice='af_heart',split_pattern=r'\\n+')\n",
    "        for i, (gs, ps, audio) in enumerate(generator):\n",
    "            print(i, gs, ps)\n",
    "            sd.play(audio, samplerate=24000)\n",
    "            sd.wait()\n",
    "            ## Esta parte es por si se quiere guardar el audio en un archivo .wav\n",
    "            # display(Audio(data=audio, rate=24000, autoplay=True))\n",
    "            # sf.write(f'{i}.wav', audio, 24000)\n",
    "            # pygame.mixer.music.load(f'{i}.wav')\n",
    "            # pygame.mixer.music.play()\n",
    "            # print(\"🔊 Reproduciendo audio...\")\n",
    "            while pygame.mixer.music.get_busy():\n",
    "                pygame.time.wait(100)\n",
    "            print(\"✅ Audio finalizado\")\n",
    "    \n",
    "    print(\"✅ Lógica personalizada completada\")\n",
    "\n",
    "def monitorear_cambios(duracion=10):\n",
    "    \"\"\"Monitorea cambios en la variable\"\"\"\n",
    "    print(f\"👀 Monitoreando cambios durante {duracion} segundos...\")\n",
    "    valor_anterior = shared_variable.get_variable()\n",
    "    tiempo_inicio = time.time()\n",
    "    \n",
    "    while time.time() - tiempo_inicio < duracion:\n",
    "        valor_actual = shared_variable.get_variable()\n",
    "        if valor_actual != valor_anterior:\n",
    "            print(f\"🔄 ¡Variable cambió! '{valor_anterior}' -> '{valor_actual}'\")\n",
    "            valor_anterior = valor_actual\n",
    "        time.sleep(1)\n",
    "    \n",
    "    print(\"⏰ Monitoreo completado\")\n",
    "\n",
    "def main():\n",
    "    \"\"\"Función principal que se ejecuta cuando se llama al script\"\"\"\n",
    "    print(\"=\" * 50)\n",
    "    print(\"🐍 EJECUTANDO SCRIPT DEL NOTEBOOK\")\n",
    "    print(\"=\" * 50)\n",
    "    \n",
    "    # Inicializar\n",
    "    inicializar_sistema()\n",
    "    \n",
    "    # Mostrar valor actual\n",
    "    mostrar_variable()\n",
    "    \n",
    "    # Ejecutar lógica personalizada\n",
    "    ejecutar_logica_personalizada()\n",
    "    \n",
    "    # Mostrar valor final\n",
    "    print(\"\\n📈 Estado final:\")\n",
    "    mostrar_variable()\n",
    "    \n",
    "    print(\"\\n✅ Script completado exitosamente!\")\n",
    "    print(\"=\" * 50)\n",
    "\n",
    "if __name__ == \"__main__\":\n",
    "    main()\n",
    "\n",
    "\n",
    "# Celda 5: Widget interactivo (opcional)\n",
    "# try:\n",
    "#     from ipywidgets import interact, widgets\n",
    "#     from IPython.display import display\n",
    "    \n",
    "#     def widget_cambiar_variable(nuevo_valor=\"\"):\n",
    "#         \"\"\"Widget interactivo para cambiar la variable\"\"\"\n",
    "#         if nuevo_valor.strip():\n",
    "#             shared_variable.set_variable(nuevo_valor)\n",
    "#             print(f\"✅ Variable actualizada desde widget: '{nuevo_valor}'\")\n",
    "#         else:\n",
    "#             print(f\"📊 Valor actual: '{shared_variable.get_variable()}'\")\n",
    "    \n",
    "#     # Crear widget\n",
    "#     print(\"\\n🎛️ Widget interactivo disponible:\")\n",
    "#     interact(widget_cambiar_variable, nuevo_valor=widgets.Text(\n",
    "#         placeholder=\"Introduce el nuevo valor...\",\n",
    "#         description=\"Variable:\"\n",
    "#     ))\n",
    "    \n",
    "# except ImportError:\n",
    "    print(\"⚠️ ipywidgets no disponible. Instala con: pip install ipywidgets\")\n"
   ]
  },
  {
   "cell_type": "code",
   "execution_count": 3,
   "id": "17173920",
   "metadata": {
    "execution": {
     "iopub.execute_input": "2025-07-17T13:38:17.827056Z",
     "iopub.status.busy": "2025-07-17T13:38:17.826056Z",
     "iopub.status.idle": "2025-07-17T13:38:17.852547Z",
     "shell.execute_reply": "2025-07-17T13:38:17.852547Z"
    }
   },
   "outputs": [
    {
     "name": "stdout",
     "output_type": "stream",
     "text": [
      "❌ El archivo de audio '0.wav' no existe. Asegúrate de que la conversión se realizó correctamente.\n"
     ]
    },
    {
     "name": "stderr",
     "output_type": "stream",
     "text": [
      "C:\\Users\\kage-\\Downloads\\Trabajo - clase\\KC - IA estudios\\KC_TFG_AudioBook\\env\\Lib\\site-packages\\pydub\\utils.py:170: RuntimeWarning: Couldn't find ffmpeg or avconv - defaulting to ffmpeg, but may not work\n",
      "  warn(\"Couldn't find ffmpeg or avconv - defaulting to ffmpeg, but may not work\", RuntimeWarning)\n"
     ]
    }
   ],
   "source": [
    "# Distorsión de voz usando RVC y pydub\n",
    "import os\n",
    "from pydub import AudioSegment\n",
    "from subprocess import run\n",
    "from pydub.effects import speedup\n",
    "\n",
    "# --- CONFIGURACIÓN ---\n",
    "input_audio = \"0.wav\"                    # Voz original\n",
    "output_audio = \"voz_convertida_rvc.wav\"      # Voz convertida sin efectos\n",
    "final_output = \"voz_final_distorsionada.wav\" # Voz con efectos\n",
    "\n",
    "model_path = \"weights/mi_modelo.pth\"\n",
    "index_path = \"logs/mi_modelo/added_IVF.index\"\n",
    "config_path = \"configs/config.json\"          # Usa el que corresponda (40k o 48k)\n",
    "\n",
    "# --- 1. CONVERSIÓN DE VOZ (usa RVC CLI) ---\n",
    "# command = [\n",
    "#     \"python\", \"infer.py\", \n",
    "#     \"-m\", model_path,\n",
    "#     \"-i\", input_audio,\n",
    "#     \"-o\", output_audio,\n",
    "#     \"--index\", index_path,\n",
    "#     \"--f0\", \"crepe\",\n",
    "#     \"--pitch\", \"0\",        # Puedes poner -5 o +5 para cambiar el tono\n",
    "#     \"--method\", \"harvest\", # harvest o crepe (elige el que mejor te suene)\n",
    "#     \"--config\", config_path\n",
    "# ]\n",
    "# run(command)\n",
    "\n",
    "# --- 2. DISTORSIÓN POSTPROCESADA ---\n",
    "if not os.path.exists(input_audio):\n",
    "    print(f\"❌ El archivo de audio '{input_audio}' no existe. Asegúrate de que la conversión se realizó correctamente.\")\n",
    "    exit(1)\n",
    "else:\n",
    "    audio = AudioSegment.from_file(input_audio)\n",
    "\n",
    "    distorted = (\n",
    "        audio\n",
    "        .low_pass_filter(500)\n",
    "        .high_pass_filter(1800)\n",
    "        .speedup(playback_speed=1.3)\n",
    "        # .reverse()\n",
    "        .apply_gain(6) \n",
    "    )\n",
    "    alien_layer = distorted - 15\n",
    "    alien_layer = alien_layer.speedup(playback_speed=0.7)\n",
    "\n",
    "    final = distorted.overlay(alien_layer)\n",
    "    final.export(final_output, format=\"wav\")\n",
    "    print(f\"✅ Voz distorsionada guardada en: {final_output}\")"
   ]
  }
 ],
 "metadata": {
  "kernelspec": {
   "display_name": "env",
   "language": "python",
   "name": "python3"
  },
  "language_info": {
   "codemirror_mode": {
    "name": "ipython",
    "version": 3
   },
   "file_extension": ".py",
   "mimetype": "text/x-python",
   "name": "python",
   "nbconvert_exporter": "python",
   "pygments_lexer": "ipython3",
   "version": "3.12.7"
  },
  "widgets": {
   "application/vnd.jupyter.widget-state+json": {
    "state": {
     "6efef908c67e49fb98f80c80ac6820b7": {
      "model_module": "@jupyter-widgets/output",
      "model_module_version": "1.0.0",
      "model_name": "OutputModel",
      "state": {
       "_dom_classes": [],
       "_model_module": "@jupyter-widgets/output",
       "_model_module_version": "1.0.0",
       "_model_name": "OutputModel",
       "_view_count": null,
       "_view_module": "@jupyter-widgets/output",
       "_view_module_version": "1.0.0",
       "_view_name": "OutputView",
       "layout": "IPY_MODEL_99abc7ea078b499ea88cb0625528986e",
       "msg_id": "",
       "outputs": [
        {
         "name": "stdout",
         "output_type": "stream",
         "text": "📊 Valor actual: '{'prompt': 'Que día es hoy?\\n\\n¿Qué día de la semana es hoy?\\n```python\\nimport datetime\\n\\ntoday = datetime.date.today()\\nday_of_week = today.strftime(\"%A\")\\n\\nprint(day_of_week)\\n```\\n', 'language': 'e'}'\n"
        }
       ],
       "tabbable": null,
       "tooltip": null
      }
     },
     "6f59faa4a38a445aa77c18aef4e97492": {
      "model_module": "@jupyter-widgets/controls",
      "model_module_version": "2.0.0",
      "model_name": "TextStyleModel",
      "state": {
       "_model_module": "@jupyter-widgets/controls",
       "_model_module_version": "2.0.0",
       "_model_name": "TextStyleModel",
       "_view_count": null,
       "_view_module": "@jupyter-widgets/base",
       "_view_module_version": "2.0.0",
       "_view_name": "StyleView",
       "background": null,
       "description_width": "",
       "font_size": null,
       "text_color": null
      }
     },
     "73a6143cd48e431f810f629e4bd7ba48": {
      "model_module": "@jupyter-widgets/controls",
      "model_module_version": "2.0.0",
      "model_name": "TextModel",
      "state": {
       "_dom_classes": [],
       "_model_module": "@jupyter-widgets/controls",
       "_model_module_version": "2.0.0",
       "_model_name": "TextModel",
       "_view_count": null,
       "_view_module": "@jupyter-widgets/controls",
       "_view_module_version": "2.0.0",
       "_view_name": "TextView",
       "continuous_update": true,
       "description": "Variable:",
       "description_allow_html": false,
       "disabled": false,
       "layout": "IPY_MODEL_cdbc09e9638246d3b17a42210dc42081",
       "placeholder": "Introduce el nuevo valor...",
       "style": "IPY_MODEL_6f59faa4a38a445aa77c18aef4e97492",
       "tabbable": null,
       "tooltip": null,
       "value": ""
      }
     },
     "7ec5072a09b6422cbdac1b599f64f802": {
      "model_module": "@jupyter-widgets/controls",
      "model_module_version": "2.0.0",
      "model_name": "VBoxModel",
      "state": {
       "_dom_classes": [
        "widget-interact"
       ],
       "_model_module": "@jupyter-widgets/controls",
       "_model_module_version": "2.0.0",
       "_model_name": "VBoxModel",
       "_view_count": null,
       "_view_module": "@jupyter-widgets/controls",
       "_view_module_version": "2.0.0",
       "_view_name": "VBoxView",
       "box_style": "",
       "children": [
        "IPY_MODEL_73a6143cd48e431f810f629e4bd7ba48",
        "IPY_MODEL_6efef908c67e49fb98f80c80ac6820b7"
       ],
       "layout": "IPY_MODEL_94b6bcd945a7409cb76b1933affd6aeb",
       "tabbable": null,
       "tooltip": null
      }
     },
     "94b6bcd945a7409cb76b1933affd6aeb": {
      "model_module": "@jupyter-widgets/base",
      "model_module_version": "2.0.0",
      "model_name": "LayoutModel",
      "state": {
       "_model_module": "@jupyter-widgets/base",
       "_model_module_version": "2.0.0",
       "_model_name": "LayoutModel",
       "_view_count": null,
       "_view_module": "@jupyter-widgets/base",
       "_view_module_version": "2.0.0",
       "_view_name": "LayoutView",
       "align_content": null,
       "align_items": null,
       "align_self": null,
       "border_bottom": null,
       "border_left": null,
       "border_right": null,
       "border_top": null,
       "bottom": null,
       "display": null,
       "flex": null,
       "flex_flow": null,
       "grid_area": null,
       "grid_auto_columns": null,
       "grid_auto_flow": null,
       "grid_auto_rows": null,
       "grid_column": null,
       "grid_gap": null,
       "grid_row": null,
       "grid_template_areas": null,
       "grid_template_columns": null,
       "grid_template_rows": null,
       "height": null,
       "justify_content": null,
       "justify_items": null,
       "left": null,
       "margin": null,
       "max_height": null,
       "max_width": null,
       "min_height": null,
       "min_width": null,
       "object_fit": null,
       "object_position": null,
       "order": null,
       "overflow": null,
       "padding": null,
       "right": null,
       "top": null,
       "visibility": null,
       "width": null
      }
     },
     "99abc7ea078b499ea88cb0625528986e": {
      "model_module": "@jupyter-widgets/base",
      "model_module_version": "2.0.0",
      "model_name": "LayoutModel",
      "state": {
       "_model_module": "@jupyter-widgets/base",
       "_model_module_version": "2.0.0",
       "_model_name": "LayoutModel",
       "_view_count": null,
       "_view_module": "@jupyter-widgets/base",
       "_view_module_version": "2.0.0",
       "_view_name": "LayoutView",
       "align_content": null,
       "align_items": null,
       "align_self": null,
       "border_bottom": null,
       "border_left": null,
       "border_right": null,
       "border_top": null,
       "bottom": null,
       "display": null,
       "flex": null,
       "flex_flow": null,
       "grid_area": null,
       "grid_auto_columns": null,
       "grid_auto_flow": null,
       "grid_auto_rows": null,
       "grid_column": null,
       "grid_gap": null,
       "grid_row": null,
       "grid_template_areas": null,
       "grid_template_columns": null,
       "grid_template_rows": null,
       "height": null,
       "justify_content": null,
       "justify_items": null,
       "left": null,
       "margin": null,
       "max_height": null,
       "max_width": null,
       "min_height": null,
       "min_width": null,
       "object_fit": null,
       "object_position": null,
       "order": null,
       "overflow": null,
       "padding": null,
       "right": null,
       "top": null,
       "visibility": null,
       "width": null
      }
     },
     "cdbc09e9638246d3b17a42210dc42081": {
      "model_module": "@jupyter-widgets/base",
      "model_module_version": "2.0.0",
      "model_name": "LayoutModel",
      "state": {
       "_model_module": "@jupyter-widgets/base",
       "_model_module_version": "2.0.0",
       "_model_name": "LayoutModel",
       "_view_count": null,
       "_view_module": "@jupyter-widgets/base",
       "_view_module_version": "2.0.0",
       "_view_name": "LayoutView",
       "align_content": null,
       "align_items": null,
       "align_self": null,
       "border_bottom": null,
       "border_left": null,
       "border_right": null,
       "border_top": null,
       "bottom": null,
       "display": null,
       "flex": null,
       "flex_flow": null,
       "grid_area": null,
       "grid_auto_columns": null,
       "grid_auto_flow": null,
       "grid_auto_rows": null,
       "grid_column": null,
       "grid_gap": null,
       "grid_row": null,
       "grid_template_areas": null,
       "grid_template_columns": null,
       "grid_template_rows": null,
       "height": null,
       "justify_content": null,
       "justify_items": null,
       "left": null,
       "margin": null,
       "max_height": null,
       "max_width": null,
       "min_height": null,
       "min_width": null,
       "object_fit": null,
       "object_position": null,
       "order": null,
       "overflow": null,
       "padding": null,
       "right": null,
       "top": null,
       "visibility": null,
       "width": null
      }
     }
    },
    "version_major": 2,
    "version_minor": 0
   }
  }
 },
 "nbformat": 4,
 "nbformat_minor": 5
}
